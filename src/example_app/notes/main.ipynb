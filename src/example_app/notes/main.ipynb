{
 "cells": [
  {
   "cell_type": "code",
   "execution_count": 6,
   "id": "8149d159-da0b-487c-8632-9655b15100be",
   "metadata": {
    "tags": []
   },
   "outputs": [],
   "source": [
    "import requests\n",
    "import zipfile\n",
    "import io\n",
    "import fnmatch\n",
    "import shutil\n",
    "import os\n",
    "\n",
    "from pathlib import Path\n",
    "from fastai.vision.all import *\n"
   ]
  },
  {
   "cell_type": "code",
   "execution_count": 7,
   "id": "cbcc5329-9bb8-49e6-a89a-6381083cb0d6",
   "metadata": {
    "tags": []
   },
   "outputs": [
    {
     "name": "stdout",
     "output_type": "stream",
     "text": [
      "https://s3.amazonaws.com/fast-ai-imageclas/oxford-iiit-pet.tgz\n"
     ]
    }
   ],
   "source": [
    "print(URLs.PETS)\n",
    "path = untar_data(URLs.PETS)/'images'    \n",
    "path"
   ]
  },
  {
   "cell_type": "code",
   "execution_count": 9,
   "id": "e71e78c2-852e-42bd-8caa-e4768e99da41",
   "metadata": {
    "tags": []
   },
   "outputs": [],
   "source": [
    "def animal_labels(filename):    \n",
    "    return filename[:filename.rfind('_')]  "
   ]
  },
  {
   "cell_type": "code",
   "execution_count": 10,
   "id": "c4a1b4b4-e237-41c3-a7bf-482a875a5def",
   "metadata": {
    "tags": []
   },
   "outputs": [],
   "source": [
    "dls = ImageDataLoaders.from_name_func(\n",
    "    path,\n",
    "    get_image_files(path),\n",
    "    valid_pct = 0.25,\n",
    "    seed = 42,\n",
    "    label_func = animal_labels,\n",
    "    item_tfms = Resize(224))"
   ]
  },
  {
   "cell_type": "code",
   "execution_count": 11,
   "id": "176ad750-5fb9-445e-ab35-4a81d9275145",
   "metadata": {
    "tags": []
   },
   "outputs": [
    {
     "name": "stdout",
     "output_type": "stream",
     "text": [
      "Abyssinian\n",
      "Bengal\n",
      "Birman\n",
      "Bombay\n",
      "British_Shorthair\n",
      "Egyptian_Mau\n",
      "Maine_Coon\n",
      "Persian\n",
      "Ragdoll\n",
      "Russian_Blue\n",
      "Siamese\n",
      "Sphynx\n",
      "american_bulldog\n",
      "american_pit_bull_terrier\n",
      "basset_hound\n",
      "beagle\n",
      "boxer\n",
      "chihuahua\n",
      "coca_cola\n",
      "english_cocker_spaniel\n",
      "english_setter\n",
      "german_shorthaired\n",
      "great_pyrenees\n",
      "havanese\n",
      "japanese_chin\n",
      "keeshond\n",
      "leonberger\n",
      "miniature_pinscher\n",
      "newfoundland\n",
      "pomeranian\n",
      "pug\n",
      "saint_bernard\n",
      "samoyed\n",
      "scottish_terrier\n",
      "shiba_inu\n",
      "staffordshire_bull_terrier\n",
      "wheaten_terrier\n",
      "yorkshire_terrier\n"
     ]
    }
   ],
   "source": [
    "for vocab in dls.vocab:\n",
    "    print(vocab)\n"
   ]
  },
  {
   "cell_type": "code",
   "execution_count": 12,
   "id": "c3edd6b9-0763-4a6c-8564-5f57252cd8b7",
   "metadata": {
    "tags": []
   },
   "outputs": [
    {
     "name": "stderr",
     "output_type": "stream",
     "text": [
      "/opt/conda/lib/python3.10/site-packages/torchvision/models/_utils.py:208: UserWarning: The parameter 'pretrained' is deprecated since 0.13 and may be removed in the future, please use 'weights' instead.\n",
      "  warnings.warn(\n",
      "/opt/conda/lib/python3.10/site-packages/torchvision/models/_utils.py:223: UserWarning: Arguments other than a weight enum or `None` for 'weights' are deprecated since 0.13 and may be removed in the future. The current behavior is equivalent to passing `weights=ResNet34_Weights.IMAGENET1K_V1`. You can also use `weights=ResNet34_Weights.DEFAULT` to get the most up-to-date weights.\n",
      "  warnings.warn(msg)\n"
     ]
    }
   ],
   "source": [
    "learn = vision_learner(dls, resnet34, metrics = error_rate)"
   ]
  },
  {
   "cell_type": "code",
   "execution_count": 25,
   "id": "d3ffc4a7-d6e8-44ee-b554-bc2d995ee147",
   "metadata": {
    "tags": []
   },
   "outputs": [
    {
     "data": {
      "text/html": [
       "\n",
       "<style>\n",
       "    /* Turns off some styling */\n",
       "    progress {\n",
       "        /* gets rid of default border in Firefox and Opera. */\n",
       "        border: none;\n",
       "        /* Needs to be in here for Safari polyfill so background images work as expected. */\n",
       "        background-size: auto;\n",
       "    }\n",
       "    progress:not([value]), progress:not([value])::-webkit-progress-bar {\n",
       "        background: repeating-linear-gradient(45deg, #7e7e7e, #7e7e7e 10px, #5c5c5c 10px, #5c5c5c 20px);\n",
       "    }\n",
       "    .progress-bar-interrupted, .progress-bar-interrupted::-webkit-progress-bar {\n",
       "        background: #F44336;\n",
       "    }\n",
       "</style>\n"
      ],
      "text/plain": [
       "<IPython.core.display.HTML object>"
      ]
     },
     "metadata": {},
     "output_type": "display_data"
    },
    {
     "data": {
      "text/html": [
       "<table border=\"1\" class=\"dataframe\">\n",
       "  <thead>\n",
       "    <tr style=\"text-align: left;\">\n",
       "      <th>epoch</th>\n",
       "      <th>train_loss</th>\n",
       "      <th>valid_loss</th>\n",
       "      <th>error_rate</th>\n",
       "      <th>time</th>\n",
       "    </tr>\n",
       "  </thead>\n",
       "  <tbody>\n",
       "    <tr>\n",
       "      <td>0</td>\n",
       "      <td>1.747147</td>\n",
       "      <td>1.557589</td>\n",
       "      <td>0.460373</td>\n",
       "      <td>00:35</td>\n",
       "    </tr>\n",
       "  </tbody>\n",
       "</table>"
      ],
      "text/plain": [
       "<IPython.core.display.HTML object>"
      ]
     },
     "metadata": {},
     "output_type": "display_data"
    },
    {
     "data": {
      "text/html": [
       "\n",
       "<style>\n",
       "    /* Turns off some styling */\n",
       "    progress {\n",
       "        /* gets rid of default border in Firefox and Opera. */\n",
       "        border: none;\n",
       "        /* Needs to be in here for Safari polyfill so background images work as expected. */\n",
       "        background-size: auto;\n",
       "    }\n",
       "    progress:not([value]), progress:not([value])::-webkit-progress-bar {\n",
       "        background: repeating-linear-gradient(45deg, #7e7e7e, #7e7e7e 10px, #5c5c5c 10px, #5c5c5c 20px);\n",
       "    }\n",
       "    .progress-bar-interrupted, .progress-bar-interrupted::-webkit-progress-bar {\n",
       "        background: #F44336;\n",
       "    }\n",
       "</style>\n"
      ],
      "text/plain": [
       "<IPython.core.display.HTML object>"
      ]
     },
     "metadata": {},
     "output_type": "display_data"
    },
    {
     "data": {
      "text/html": [
       "<table border=\"1\" class=\"dataframe\">\n",
       "  <thead>\n",
       "    <tr style=\"text-align: left;\">\n",
       "      <th>epoch</th>\n",
       "      <th>train_loss</th>\n",
       "      <th>valid_loss</th>\n",
       "      <th>error_rate</th>\n",
       "      <th>time</th>\n",
       "    </tr>\n",
       "  </thead>\n",
       "  <tbody>\n",
       "    <tr>\n",
       "      <td>0</td>\n",
       "      <td>1.604516</td>\n",
       "      <td>1.410331</td>\n",
       "      <td>0.418447</td>\n",
       "      <td>00:41</td>\n",
       "    </tr>\n",
       "  </tbody>\n",
       "</table>"
      ],
      "text/plain": [
       "<IPython.core.display.HTML object>"
      ]
     },
     "metadata": {},
     "output_type": "display_data"
    }
   ],
   "source": [
    "learn.fine_tune(1)"
   ]
  },
  {
   "cell_type": "code",
   "execution_count": 19,
   "id": "4bd1ec1b-1899-4ce9-9291-bbd191b641fa",
   "metadata": {
    "tags": []
   },
   "outputs": [
    {
     "data": {
      "image/png": "[encoded data removed]",
      "text/plain": [
       "<PIL.Image.Image image mode=RGB size=108x192>"
      ]
     },
     "execution_count": 19,
     "metadata": {},
     "output_type": "execute_result"
    }
   ],
   "source": [
    "img = PILImage.create('fou.jpeg')\n",
    "img.to_thumb(192)"
   ]
  },
  {
   "cell_type": "code",
   "execution_count": 30,
   "id": "0df5af44-7d84-4da1-9409-857937d117e7",
   "metadata": {
    "tags": []
   },
   "outputs": [
    {
     "data": {
      "text/html": [
       "\n",
       "<style>\n",
       "    /* Turns off some styling */\n",
       "    progress {\n",
       "        /* gets rid of default border in Firefox and Opera. */\n",
       "        border: none;\n",
       "        /* Needs to be in here for Safari polyfill so background images work as expected. */\n",
       "        background-size: auto;\n",
       "    }\n",
       "    progress:not([value]), progress:not([value])::-webkit-progress-bar {\n",
       "        background: repeating-linear-gradient(45deg, #7e7e7e, #7e7e7e 10px, #5c5c5c 10px, #5c5c5c 20px);\n",
       "    }\n",
       "    .progress-bar-interrupted, .progress-bar-interrupted::-webkit-progress-bar {\n",
       "        background: #F44336;\n",
       "    }\n",
       "</style>\n"
      ],
      "text/plain": [
       "<IPython.core.display.HTML object>"
      ]
     },
     "metadata": {},
     "output_type": "display_data"
    },
    {
     "data": {
      "text/html": [],
      "text/plain": [
       "<IPython.core.display.HTML object>"
      ]
     },
     "metadata": {},
     "output_type": "display_data"
    },
    {
     "name": "stdout",
     "output_type": "stream",
     "text": [
      "Predicted animal: coca_cola.\n",
      "Predicted animal probability: 0.8100615739822388\n",
      "Probabilities: tensor([2.8806e-03, 8.0012e-03, 7.7094e-03, 1.6110e-02, 1.0279e-02, 8.2744e-04,\n",
      "        4.6500e-02, 3.4114e-03, 6.2192e-03, 1.1483e-02, 2.2363e-03, 2.8610e-04,\n",
      "        2.4438e-03, 1.1843e-02, 3.2093e-03, 4.3831e-03, 1.3107e-02, 1.6711e-03,\n",
      "        8.1006e-01, 4.2743e-04, 4.6939e-04, 4.4918e-03, 8.8271e-05, 1.1891e-03,\n",
      "        1.1395e-03, 6.3991e-04, 3.9495e-04, 1.2835e-03, 1.2718e-03, 6.8418e-03,\n",
      "        3.3633e-03, 8.0185e-04, 5.7949e-04, 1.0904e-02, 4.4433e-04, 1.8051e-03,\n",
      "        7.8105e-04, 4.2205e-04])\n"
     ]
    }
   ],
   "source": [
    "animal_type, index, probs = learn.predict(img)\n",
    "print(f\"Predicted animal: {animal_type}.\") \n",
    "print(f\"Predicted animal probability: {probs[index]}\")\n",
    "print(f\"Probabilities: {probs}\")"
   ]
  },
  {
   "cell_type": "code",
   "execution_count": 34,
   "id": "35bb7a3b-e8cb-423a-abda-3cae6e9c423c",
   "metadata": {
    "tags": []
   },
   "outputs": [
    {
     "data": {
      "text/plain": [
       "Path('/home/.fastai/data/oxford-iiit-pet/images')"
      ]
     },
     "execution_count": 34,
     "metadata": {},
     "output_type": "execute_result"
    }
   ],
   "source": [
    "learn.path"
   ]
  },
  {
   "cell_type": "code",
   "execution_count": null,
   "id": "79dc3732-ea62-4e22-b704-108c78e681c8",
   "metadata": {},
   "outputs": [],
   "source": []
  }
 ],
 "metadata": {
  "kernelspec": {
   "display_name": "Python 3 (ipykernel)",
   "language": "python",
   "name": "python3"
  },
  "language_info": {
   "codemirror_mode": {
    "name": "ipython",
    "version": 3
   },
   "file_extension": ".py",
   "mimetype": "text/x-python",
   "name": "python",
   "nbconvert_exporter": "python",
   "pygments_lexer": "ipython3",
   "version": "3.10.9"
  }
 },
 "nbformat": 4,
 "nbformat_minor": 5
}
