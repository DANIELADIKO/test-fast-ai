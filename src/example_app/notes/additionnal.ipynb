{
 "cells": [
  {
   "cell_type": "code",
   "execution_count": 1,
   "id": "16f7d75a-6c0a-4e28-9f7a-9f2d34aa7ad8",
   "metadata": {
    "tags": []
   },
   "outputs": [
    {
     "ename": "NameError",
     "evalue": "name 'os' is not defined",
     "output_type": "error",
     "traceback": [
      "\u001b[0;31m---------------------------------------------------------------------------\u001b[0m",
      "\u001b[0;31mNameError\u001b[0m                                 Traceback (most recent call last)",
      "Cell \u001b[0;32mIn[1], line 1\u001b[0m\n\u001b[0;32m----> 1\u001b[0m \u001b[38;5;28;01mif\u001b[39;00m \u001b[38;5;129;01mnot\u001b[39;00m \u001b[43mos\u001b[49m\u001b[38;5;241m.\u001b[39mpath\u001b[38;5;241m.\u001b[39mexists(destination_folder):\n\u001b[1;32m      2\u001b[0m     os\u001b[38;5;241m.\u001b[39mmakedirs(destination_folder)\n",
      "\u001b[0;31mNameError\u001b[0m: name 'os' is not defined"
     ]
    }
   ],
   "source": [
    "if not os.path.exists(destination_folder):\n",
    "    os.makedirs(destination_folder)\n"
   ]
  },
  {
   "cell_type": "code",
   "execution_count": 2,
   "id": "4915b758-df53-4e14-a085-a9c9e959f766",
   "metadata": {
    "tags": []
   },
   "outputs": [],
   "source": [
    "import requests\n",
    "import zipfile\n",
    "import io\n",
    "import fnmatch\n",
    "import shutil\n",
    "import os"
   ]
  },
  {
   "cell_type": "code",
   "execution_count": 3,
   "id": "1722cb6b-be11-41fc-b0b5-96c2e8dc8968",
   "metadata": {
    "tags": []
   },
   "outputs": [],
   "source": [
    "zip_file_path = 'https://services.dannio.me/coca.zip'\n",
    "destination_folder = '/home/.fastai/data/oxford-iiit-pet/images/oxford-iiit-pet/images'\n",
    "temp_folder= '/home/.fastai/data/oxford-iiit-pet/tmp'"
   ]
  },
  {
   "cell_type": "code",
   "execution_count": 9,
   "id": "cd196730-1751-439a-aad7-2cf7e328c763",
   "metadata": {
    "tags": []
   },
   "outputs": [
    {
     "name": "stdout",
     "output_type": "stream",
     "text": [
      "Number of files in the folder: 7404\n",
      "Number of directories in the folder: 0\n",
      "Total number of items in the folder: 7404\n"
     ]
    }
   ],
   "source": [
    "file_count = 0\n",
    "dir_count = 0\n",
    "\n",
    "# Iterate over items in the folder\n",
    "for item in os.listdir(destination_folder):\n",
    "    item_path = os.path.join(destination_folder, item)\n",
    "    if os.path.isfile(item_path):\n",
    "        file_count += 1\n",
    "    elif os.path.isdir(item_path):\n",
    "        dir_count += 1\n",
    "\n",
    "print(f\"Number of files in the folder: {file_count}\")\n",
    "print(f\"Number of directories in the folder: {dir_count}\")\n",
    "print(f\"Total number of items in the folder: {file_count + dir_count}\")\n"
   ]
  },
  {
   "cell_type": "code",
   "execution_count": 25,
   "id": "3eb23cc5-012d-46a0-8fa1-43f2fbceb266",
   "metadata": {
    "tags": []
   },
   "outputs": [
    {
     "name": "stdout",
     "output_type": "stream",
     "text": [
      "Directory '/home/.fastai/data/oxford-iiit-pet/images' and its contents have been deleted.\n"
     ]
    }
   ],
   "source": [
    "#try:\n",
    "#    shutil.rmtree(destination_folder)\n",
    "#    print(f\"Directory '{destination_folder}' and its contents have been deleted.\")\n",
    "#except Exception as e:\n",
    "#    print(f\"Error: {str(e)}\")\n"
   ]
  },
  {
   "cell_type": "code",
   "execution_count": 5,
   "id": "1240ff6c-02c0-4103-82d2-97d53bdadac6",
   "metadata": {
    "tags": []
   },
   "outputs": [
    {
     "name": "stdout",
     "output_type": "stream",
     "text": [
      "coca_cola_7.jpg\n",
      "__MACOSX/._coca_cola_7.jpg\n",
      "coca_cola_1.jpeg\n",
      "__MACOSX/._coca_cola_1.jpeg\n",
      "coca_cola_2.jpg\n",
      "__MACOSX/._coca_cola_2.jpg\n",
      "coca_cola_3.jpeg\n",
      "__MACOSX/._coca_cola_3.jpeg\n",
      "coca_cola_4.jpg\n",
      "__MACOSX/._coca_cola_4.jpg\n",
      "coca_cola_5.jpeg\n",
      "__MACOSX/._coca_cola_5.jpeg\n",
      "coca_cola_6.jpg\n",
      "__MACOSX/._coca_cola_6.jpg\n",
      "coca_cola_8.jpeg\n",
      "__MACOSX/._coca_cola_8.jpeg\n",
      "coca_cola_9.jpeg\n",
      "__MACOSX/._coca_cola_9.jpeg\n",
      "coca_cola_10.jpeg\n",
      "__MACOSX/._coca_cola_10.jpeg\n",
      "coca_cola_11.jpeg\n",
      "__MACOSX/._coca_cola_11.jpeg\n"
     ]
    }
   ],
   "source": [
    "response = requests.get(zip_file_path)\n",
    "if response.status_code == 200:\n",
    "    with zipfile.ZipFile(io.BytesIO(response.content), 'r') as zip_ref:\n",
    "        file_list = zip_ref.namelist()\n",
    "\n",
    "    # Print the list of files in the ZIP archive\n",
    "    for file_name in file_list:\n",
    "        print(file_name)\n",
    "else:\n",
    "    print(f\"Failed to download file (Status Code: {response.status_code})\")\n",
    "\n"
   ]
  },
  {
   "cell_type": "code",
   "execution_count": 7,
   "id": "ff164ce6-99ac-4364-b9b5-994bfa777566",
   "metadata": {
    "tags": []
   },
   "outputs": [],
   "source": [
    "disregard_pattern = '__MACOSX*'  "
   ]
  },
  {
   "cell_type": "code",
   "execution_count": 8,
   "id": "b64e1e7f-34c2-4b8a-805c-2e0dfe591ea4",
   "metadata": {
    "tags": []
   },
   "outputs": [
    {
     "name": "stdout",
     "output_type": "stream",
     "text": [
      "Files extracted from 'https://services.dannio.me/coca.zip' and merged with '/home/.fastai/data/oxford-iiit-pet/images/oxford-iiit-pet/images'.\n"
     ]
    }
   ],
   "source": [
    "if not os.path.exists(temp_folder):\n",
    "    os.makedirs(temp_folder)\n",
    "\n",
    "# 3. Extract files to the temporary directory\n",
    "with zipfile.ZipFile(io.BytesIO(response.content), 'r') as zip_ref:\n",
    "    zip_ref.extractall(temp_folder)\n",
    "\n",
    "# 4. Move files from the temporary directory to the original destination folder\n",
    "for file_name in file_list:\n",
    "    if not fnmatch.fnmatch(file_name, disregard_pattern):\n",
    "        source_path = os.path.join(temp_folder, file_name)\n",
    "        destination_path = os.path.join(destination_folder, file_name)\n",
    "\n",
    "        # Check if the file already exists in the destination folder\n",
    "        if os.path.exists(destination_path):\n",
    "            os.remove(destination_path)  # Remove the existing file\n",
    "\n",
    "        # Move the file from the temporary directory to the destination folder\n",
    "        shutil.move(source_path, destination_path)\n",
    "\n",
    "# Clean up the temporary directory\n",
    "shutil.rmtree(temp_folder)\n",
    "\n",
    "print(f\"Files extracted from '{zip_file_path}' and merged with '{destination_folder}'.\")"
   ]
  },
  {
   "cell_type": "code",
   "execution_count": 10,
   "id": "6c53ffeb-e386-424b-bd6e-4176c91e12ca",
   "metadata": {
    "tags": []
   },
   "outputs": [],
   "source": [
    "search_pattern = 'coca*'  "
   ]
  },
  {
   "cell_type": "code",
   "execution_count": 11,
   "id": "837383a6-5a16-45b6-a554-c518511d2b87",
   "metadata": {
    "tags": []
   },
   "outputs": [
    {
     "name": "stdout",
     "output_type": "stream",
     "text": [
      "coca_cola_3.jpeg\n",
      "coca_cola_11.jpeg\n",
      "coca_cola_9.jpeg\n",
      "coca_cola_5.jpeg\n",
      "coca_cola_8.jpeg\n",
      "coca_cola_10.jpeg\n",
      "coca_cola_2.jpg\n",
      "coca_cola_4.jpg\n",
      "coca_cola_7.jpg\n",
      "coca_cola_1.jpeg\n",
      "coca_cola_6.jpg\n"
     ]
    }
   ],
   "source": [
    "matching_files = []\n",
    "\n",
    "for filename in os.listdir(destination_folder):\n",
    "    if fnmatch.fnmatch(filename, search_pattern):\n",
    "        matching_files.append(filename)\n",
    "\n",
    "# Print or process the matching files\n",
    "for filename in matching_files:\n",
    "    print(filename)\n"
   ]
  },
  {
   "cell_type": "code",
   "execution_count": null,
   "id": "a2f5e0e3-39d8-4586-b4ea-480ee2cf18af",
   "metadata": {},
   "outputs": [],
   "source": []
  }
 ],
 "metadata": {
  "kernelspec": {
   "display_name": "Python 3 (ipykernel)",
   "language": "python",
   "name": "python3"
  },
  "language_info": {
   "codemirror_mode": {
    "name": "ipython",
    "version": 3
   },
   "file_extension": ".py",
   "mimetype": "text/x-python",
   "name": "python",
   "nbconvert_exporter": "python",
   "pygments_lexer": "ipython3",
   "version": "3.10.9"
  }
 },
 "nbformat": 4,
 "nbformat_minor": 5
}
